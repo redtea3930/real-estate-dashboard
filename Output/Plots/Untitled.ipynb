{
 "cells": [
  {
   "cell_type": "code",
   "execution_count": 2,
   "id": "bf6a2578",
   "metadata": {},
   "outputs": [],
   "source": [
    "from fredapi import Fred"
   ]
  },
  {
   "cell_type": "code",
   "execution_count": 3,
   "id": "754a8508",
   "metadata": {},
   "outputs": [],
   "source": [
    "fred = Fred(api_key='6f165b061ec2d6a864d616cceb3cd794')\n",
    "data = fred.get_series('SP500')"
   ]
  },
  {
   "cell_type": "code",
   "execution_count": 4,
   "id": "3fe1354c",
   "metadata": {},
   "outputs": [
    {
     "data": {
      "text/plain": [
       "2013-08-01    1706.87\n",
       "2013-08-02    1709.67\n",
       "2013-08-05    1707.14\n",
       "2013-08-06    1697.37\n",
       "2013-08-07    1690.91\n",
       "               ...   \n",
       "2023-07-25    4567.46\n",
       "2023-07-26    4566.75\n",
       "2023-07-27    4537.41\n",
       "2023-07-28    4582.23\n",
       "2023-07-31    4588.96\n",
       "Length: 2608, dtype: float64"
      ]
     },
     "execution_count": 4,
     "metadata": {},
     "output_type": "execute_result"
    }
   ],
   "source": [
    "data"
   ]
  },
  {
   "cell_type": "code",
   "execution_count": 5,
   "id": "e6e24f0a",
   "metadata": {},
   "outputs": [
    {
     "data": {
      "text/plain": [
       "date\n",
       "2022-04-01    24851.809\n",
       "2022-07-01    25663.289\n",
       "2022-10-01    26132.458\n",
       "2023-01-01    26465.865\n",
       "2023-04-01    26834.953\n",
       "Name: value, dtype: object"
      ]
     },
     "execution_count": 5,
     "metadata": {},
     "output_type": "execute_result"
    }
   ],
   "source": [
    "data = fred.get_series_first_release('GDP')\n",
    "data.tail()"
   ]
  },
  {
   "cell_type": "code",
   "execution_count": null,
   "id": "6b84946e",
   "metadata": {},
   "outputs": [],
   "source": []
  }
 ],
 "metadata": {
  "kernelspec": {
   "display_name": "Python [conda env:pyvizenv] *",
   "language": "python",
   "name": "conda-env-pyvizenv-py"
  },
  "language_info": {
   "codemirror_mode": {
    "name": "ipython",
    "version": 3
   },
   "file_extension": ".py",
   "mimetype": "text/x-python",
   "name": "python",
   "nbconvert_exporter": "python",
   "pygments_lexer": "ipython3",
   "version": "3.7.13"
  }
 },
 "nbformat": 4,
 "nbformat_minor": 5
}
